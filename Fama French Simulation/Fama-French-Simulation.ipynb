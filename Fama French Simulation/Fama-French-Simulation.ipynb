{
 "cells": [
  {
   "cell_type": "markdown",
   "id": "926359a5",
   "metadata": {},
   "source": [
    "# Fama French Simulation"
   ]
  },
  {
   "cell_type": "code",
   "execution_count": 30,
   "id": "098f8a86",
   "metadata": {},
   "outputs": [],
   "source": [
    "#import all the necessary libraries\n",
    "import yfinance as yf\n",
    "import datetime as dt\n",
    "import pandas_datareader as web\n",
    "import statsmodels.api as sm\n",
    "import pandas as pd\n",
    "from matplotlib import pyplot as plt"
   ]
  },
  {
   "cell_type": "markdown",
   "id": "9bda0a6b",
   "metadata": {},
   "source": [
    "Read the CSV file ff_factors. This file is little different from the file available at the website as i have modified it to my preference"
   ]
  },
  {
   "cell_type": "code",
   "execution_count": 31,
   "id": "a97576b2",
   "metadata": {},
   "outputs": [],
   "source": [
    "ff_factors=pd.read_csv('ff_factors.csv',index_col='Month')"
   ]
  },
  {
   "cell_type": "code",
   "execution_count": 32,
   "id": "9e078742",
   "metadata": {},
   "outputs": [
    {
     "data": {
      "text/html": [
       "<div>\n",
       "<style scoped>\n",
       "    .dataframe tbody tr th:only-of-type {\n",
       "        vertical-align: middle;\n",
       "    }\n",
       "\n",
       "    .dataframe tbody tr th {\n",
       "        vertical-align: top;\n",
       "    }\n",
       "\n",
       "    .dataframe thead th {\n",
       "        text-align: right;\n",
       "    }\n",
       "</style>\n",
       "<table border=\"1\" class=\"dataframe\">\n",
       "  <thead>\n",
       "    <tr style=\"text-align: right;\">\n",
       "      <th></th>\n",
       "      <th>Mkt-RF</th>\n",
       "      <th>SMB</th>\n",
       "      <th>HML</th>\n",
       "      <th>RF</th>\n",
       "    </tr>\n",
       "    <tr>\n",
       "      <th>Month</th>\n",
       "      <th></th>\n",
       "      <th></th>\n",
       "      <th></th>\n",
       "      <th></th>\n",
       "    </tr>\n",
       "  </thead>\n",
       "  <tbody>\n",
       "    <tr>\n",
       "      <th>1926-07-31</th>\n",
       "      <td>0.0296</td>\n",
       "      <td>-0.0230</td>\n",
       "      <td>-0.0287</td>\n",
       "      <td>0.0022</td>\n",
       "    </tr>\n",
       "    <tr>\n",
       "      <th>1926-08-31</th>\n",
       "      <td>0.0264</td>\n",
       "      <td>-0.0140</td>\n",
       "      <td>0.0419</td>\n",
       "      <td>0.0025</td>\n",
       "    </tr>\n",
       "    <tr>\n",
       "      <th>1926-09-30</th>\n",
       "      <td>0.0036</td>\n",
       "      <td>-0.0132</td>\n",
       "      <td>0.0001</td>\n",
       "      <td>0.0023</td>\n",
       "    </tr>\n",
       "    <tr>\n",
       "      <th>1926-10-31</th>\n",
       "      <td>-0.0324</td>\n",
       "      <td>0.0004</td>\n",
       "      <td>0.0051</td>\n",
       "      <td>0.0032</td>\n",
       "    </tr>\n",
       "    <tr>\n",
       "      <th>1926-11-30</th>\n",
       "      <td>0.0253</td>\n",
       "      <td>-0.0020</td>\n",
       "      <td>-0.0035</td>\n",
       "      <td>0.0031</td>\n",
       "    </tr>\n",
       "    <tr>\n",
       "      <th>...</th>\n",
       "      <td>...</td>\n",
       "      <td>...</td>\n",
       "      <td>...</td>\n",
       "      <td>...</td>\n",
       "    </tr>\n",
       "    <tr>\n",
       "      <th>2021-02-28</th>\n",
       "      <td>0.0278</td>\n",
       "      <td>0.0211</td>\n",
       "      <td>0.0708</td>\n",
       "      <td>0.0000</td>\n",
       "    </tr>\n",
       "    <tr>\n",
       "      <th>2021-03-31</th>\n",
       "      <td>0.0308</td>\n",
       "      <td>-0.0248</td>\n",
       "      <td>0.0740</td>\n",
       "      <td>0.0000</td>\n",
       "    </tr>\n",
       "    <tr>\n",
       "      <th>2021-04-30</th>\n",
       "      <td>0.0493</td>\n",
       "      <td>-0.0309</td>\n",
       "      <td>-0.0074</td>\n",
       "      <td>0.0000</td>\n",
       "    </tr>\n",
       "    <tr>\n",
       "      <th>2021-05-31</th>\n",
       "      <td>0.0029</td>\n",
       "      <td>-0.0021</td>\n",
       "      <td>0.0704</td>\n",
       "      <td>0.0000</td>\n",
       "    </tr>\n",
       "    <tr>\n",
       "      <th>2021-06-30</th>\n",
       "      <td>0.0279</td>\n",
       "      <td>0.0179</td>\n",
       "      <td>-0.0770</td>\n",
       "      <td>0.0000</td>\n",
       "    </tr>\n",
       "  </tbody>\n",
       "</table>\n",
       "<p>1140 rows × 4 columns</p>\n",
       "</div>"
      ],
      "text/plain": [
       "            Mkt-RF     SMB     HML      RF\n",
       "Month                                     \n",
       "1926-07-31  0.0296 -0.0230 -0.0287  0.0022\n",
       "1926-08-31  0.0264 -0.0140  0.0419  0.0025\n",
       "1926-09-30  0.0036 -0.0132  0.0001  0.0023\n",
       "1926-10-31 -0.0324  0.0004  0.0051  0.0032\n",
       "1926-11-30  0.0253 -0.0020 -0.0035  0.0031\n",
       "...            ...     ...     ...     ...\n",
       "2021-02-28  0.0278  0.0211  0.0708  0.0000\n",
       "2021-03-31  0.0308 -0.0248  0.0740  0.0000\n",
       "2021-04-30  0.0493 -0.0309 -0.0074  0.0000\n",
       "2021-05-31  0.0029 -0.0021  0.0704  0.0000\n",
       "2021-06-30  0.0279  0.0179 -0.0770  0.0000\n",
       "\n",
       "[1140 rows x 4 columns]"
      ]
     },
     "execution_count": 32,
     "metadata": {},
     "output_type": "execute_result"
    }
   ],
   "source": [
    "#changing the month column to datetime index for example previously an element was like 198006 that is now 1980-06\n",
    "ff_factors.index = pd.to_datetime(ff_factors.index, format= '%Y%m')\n",
    "#adding the last date of the month so that it is complatible with the returns of a stock that we will calculate\n",
    "#later in the code\n",
    "ff_factors.index = ff_factors.index + pd.offsets.MonthEnd()\n",
    "#changing all the elements to float data type\n",
    "ff_factors = ff_factors.astype(float)\n",
    "#making all the elements. from percentage to decimals to make it compatible with returns of the stock\n",
    "ff_factors['Mkt-RF']=ff_factors['Mkt-RF'].div(100)\n",
    "ff_factors['RF']=ff_factors['RF'].div(100)\n",
    "ff_factors['SMB']=ff_factors['SMB'].div(100)\n",
    "ff_factors['HML']=ff_factors['HML'].div(100)\n",
    "ff_factors"
   ]
  },
  {
   "cell_type": "code",
   "execution_count": 33,
   "id": "ccf5fb55",
   "metadata": {},
   "outputs": [
    {
     "data": {
      "text/plain": [
       "<AxesSubplot:xlabel='Month'>"
      ]
     },
     "execution_count": 33,
     "metadata": {},
     "output_type": "execute_result"
    },
    {
     "data": {
      "image/png": "[encoded data removed]",
      "text/plain": [
       "<Figure size 432x288 with 1 Axes>"
      ]
     },
     "metadata": {
      "needs_background": "light"
     },
     "output_type": "display_data"
    }
   ],
   "source": [
    "ff_factors_cum = ff_factors.cumsum()\n",
    "ff_factors_cum.plot.line()"
   ]
  },
  {
   "cell_type": "markdown",
   "id": "bc1a01f5",
   "metadata": {},
   "source": [
    "# Apple Stock Simulation"
   ]
  },
  {
   "cell_type": "code",
   "execution_count": 34,
   "id": "38916c4e",
   "metadata": {},
   "outputs": [
    {
     "data": {
      "text/plain": [
       "<bound method NDFrame.head of              Returns\n",
       "1981-03-31 -0.087576\n",
       "1981-04-30  0.147363\n",
       "1981-06-30 -0.228594\n",
       "1981-07-31 -0.050859\n",
       "1981-08-31 -0.207797\n",
       "...              ...\n",
       "2020-12-31  0.114474\n",
       "2021-03-31  0.007340\n",
       "2021-04-30  0.076218\n",
       "2021-05-31 -0.050497\n",
       "2021-06-30  0.099109\n",
       "\n",
       "[346 rows x 1 columns]>"
      ]
     },
     "execution_count": 34,
     "metadata": {},
     "output_type": "execute_result"
    }
   ],
   "source": [
    "#getting stock information\n",
    "stock = yf.Ticker(\"AAPL\")#one can change the ticker also to get a fama french simulation for other stocks also\n",
    "hist = stock.history(period=\"max\", auto_adjust=True, rounding=False)\n",
    "price = hist[[\"Close\"]]\n",
    "#resampling the stock daily information to monthly stock information\n",
    "monthly_price = price.resample('BM').last()\n",
    "\n",
    "# calculate monthly returns\n",
    "monthly_returns = monthly_price.pct_change().dropna()\n",
    "\n",
    "# calculate excess monthly returns\n",
    "excess_returns = (monthly_returns['Close'] - ff_factors['RF']).dropna()\n",
    "excess_returns = pd.DataFrame(data=excess_returns.values, index=excess_returns.index, columns=[\"Returns\"])\n",
    "\n",
    "excess_returns.head"
   ]
  },
  {
   "cell_type": "code",
   "execution_count": 35,
   "id": "812e7b09",
   "metadata": {},
   "outputs": [
    {
     "data": {
      "text/plain": [
       "<AxesSubplot:>"
      ]
     },
     "execution_count": 35,
     "metadata": {},
     "output_type": "execute_result"
    },
    {
     "data": {
      "image/png": "[encoded data removed]",
      "text/plain": [
       "<Figure size 432x288 with 1 Axes>"
      ]
     },
     "metadata": {
      "needs_background": "light"
     },
     "output_type": "display_data"
    }
   ],
   "source": [
    "excess_returns_cum = excess_returns.cumsum()\n",
    "excess_returns_cum.plot.line()"
   ]
  },
  {
   "cell_type": "code",
   "execution_count": 36,
   "id": "7cc805ac",
   "metadata": {},
   "outputs": [
    {
     "name": "stdout",
     "output_type": "stream",
     "text": [
      "Mkt-RF    1.180133\n",
      "SMB       0.218137\n",
      "HML      -0.682786\n",
      "dtype: float64\n"
     ]
    }
   ],
   "source": [
    "#Regression Section\n",
    "data = ff_factors.join(excess_returns).dropna()\n",
    "\n",
    "y = data[[\"Returns\"]] \n",
    "x = data[[\"Mkt-RF\",\"SMB\",\"HML\"]]\n",
    "\n",
    "\n",
    "ols = sm.OLS(y,x)\n",
    "\n",
    "result = ols.fit()\n",
    "betas = result.params\n",
    "print(betas)"
   ]
  },
  {
   "cell_type": "code",
   "execution_count": 37,
   "id": "47253898",
   "metadata": {},
   "outputs": [
    {
     "name": "stdout",
     "output_type": "stream",
     "text": [
      "Required rate of return is: 0.08940485295302046\n"
     ]
    },
    {
     "name": "stderr",
     "output_type": "stream",
     "text": [
      "/Users/macbookair/opt/anaconda3/lib/python3.8/site-packages/pandas/core/frame.py:1549: FutureWarning: Using short name for 'orient' is deprecated. Only the options: ('dict', list, 'series', 'split', 'records', 'index') will be used in a future version. Use one of the above to silence this warning.\n",
      "  warnings.warn(\n"
     ]
    }
   ],
   "source": [
    "latest_ff_factors = ff_factors.tail(1).to_dict('r')[0]\n",
    "\n",
    "RRR = latest_ff_factors['RF']+ betas[\"Mkt-RF\"] * latest_ff_factors[\"Mkt-RF\"]+ betas[\"SMB\"] * latest_ff_factors[\"SMB\"]+ betas[\"HML\"] * latest_ff_factors[\"HML\"]\n",
    "\n",
    "print(f\"Required rate of return is: {RRR}\")"
   ]
  }
 ],
 "metadata": {
  "kernelspec": {
   "display_name": "Python 3",
   "language": "python",
   "name": "python3"
  },
  "language_info": {
   "codemirror_mode": {
    "name": "ipython",
    "version": 3
   },
   "file_extension": ".py",
   "mimetype": "text/x-python",
   "name": "python",
   "nbconvert_exporter": "python",
   "pygments_lexer": "ipython3",
   "version": "3.8.8"
  }
 },
 "nbformat": 4,
 "nbformat_minor": 5
}
